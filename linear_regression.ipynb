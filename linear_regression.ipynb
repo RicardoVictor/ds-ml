{
  "nbformat": 4,
  "nbformat_minor": 0,
  "metadata": {
    "colab": {
      "name": "Copy of Linear_Regression.ipynb",
      "provenance": [],
      "collapsed_sections": []
    },
    "kernelspec": {
      "name": "python3",
      "display_name": "Python 3"
    },
    "accelerator": "GPU"
  },
  "cells": [
    {
      "cell_type": "code",
      "metadata": {
        "id": "Z9nU6T1Ww5xd",
        "colab_type": "code",
        "colab": {}
      },
      "source": [
        "import numpy as np\n",
        "import pandas as pd\n",
        "import matplotlib.pyplot as plt\n",
        "\n",
        "%matplotlib inline"
      ],
      "execution_count": 0,
      "outputs": []
    },
    {
      "cell_type": "code",
      "metadata": {
        "id": "hCZtxDCVAyhS",
        "colab_type": "code",
        "colab": {}
      },
      "source": [
        "df = pd.DataFrame({'Peso': np.array([40.0, 93.5, 35.5, 30.0, 52.0, 17.0, 38.5,  8.5, 33.0,  9.5, 21.0, 79.0]) / 2.205,\n",
        "                            'Altura': np.array([42.8, 63.5, 37.5, 39.5, 45.5, 38.5, 43.0, 22.5, 37.0, 23.5, 33.0, 58.0]) / 39.37,\n",
        "                            'Cateter': [37, 50, 34, 36, 43, 28, 37, 20, 34, 30, 38, 47]},\n",
        "                            dtype='float')"
      ],
      "execution_count": 0,
      "outputs": []
    },
    {
      "cell_type": "code",
      "metadata": {
        "id": "Wl42L2x4U7QZ",
        "colab_type": "code",
        "outputId": "a7193129-b33d-4b3e-9b31-e606c1e41aba",
        "colab": {
          "base_uri": "https://localhost:8080/",
          "height": 421
        }
      },
      "source": [
        "df"
      ],
      "execution_count": 0,
      "outputs": [
        {
          "output_type": "execute_result",
          "data": {
            "text/html": [
              "<div>\n",
              "<style scoped>\n",
              "    .dataframe tbody tr th:only-of-type {\n",
              "        vertical-align: middle;\n",
              "    }\n",
              "\n",
              "    .dataframe tbody tr th {\n",
              "        vertical-align: top;\n",
              "    }\n",
              "\n",
              "    .dataframe thead th {\n",
              "        text-align: right;\n",
              "    }\n",
              "</style>\n",
              "<table border=\"1\" class=\"dataframe\">\n",
              "  <thead>\n",
              "    <tr style=\"text-align: right;\">\n",
              "      <th></th>\n",
              "      <th>Peso</th>\n",
              "      <th>Altura</th>\n",
              "      <th>Cateter</th>\n",
              "    </tr>\n",
              "  </thead>\n",
              "  <tbody>\n",
              "    <tr>\n",
              "      <th>0</th>\n",
              "      <td>18.140590</td>\n",
              "      <td>1.087122</td>\n",
              "      <td>37.0</td>\n",
              "    </tr>\n",
              "    <tr>\n",
              "      <th>1</th>\n",
              "      <td>42.403628</td>\n",
              "      <td>1.612903</td>\n",
              "      <td>50.0</td>\n",
              "    </tr>\n",
              "    <tr>\n",
              "      <th>2</th>\n",
              "      <td>16.099773</td>\n",
              "      <td>0.952502</td>\n",
              "      <td>34.0</td>\n",
              "    </tr>\n",
              "    <tr>\n",
              "      <th>3</th>\n",
              "      <td>13.605442</td>\n",
              "      <td>1.003302</td>\n",
              "      <td>36.0</td>\n",
              "    </tr>\n",
              "    <tr>\n",
              "      <th>4</th>\n",
              "      <td>23.582766</td>\n",
              "      <td>1.155702</td>\n",
              "      <td>43.0</td>\n",
              "    </tr>\n",
              "    <tr>\n",
              "      <th>5</th>\n",
              "      <td>7.709751</td>\n",
              "      <td>0.977902</td>\n",
              "      <td>28.0</td>\n",
              "    </tr>\n",
              "    <tr>\n",
              "      <th>6</th>\n",
              "      <td>17.460317</td>\n",
              "      <td>1.092202</td>\n",
              "      <td>37.0</td>\n",
              "    </tr>\n",
              "    <tr>\n",
              "      <th>7</th>\n",
              "      <td>3.854875</td>\n",
              "      <td>0.571501</td>\n",
              "      <td>20.0</td>\n",
              "    </tr>\n",
              "    <tr>\n",
              "      <th>8</th>\n",
              "      <td>14.965986</td>\n",
              "      <td>0.939802</td>\n",
              "      <td>34.0</td>\n",
              "    </tr>\n",
              "    <tr>\n",
              "      <th>9</th>\n",
              "      <td>4.308390</td>\n",
              "      <td>0.596901</td>\n",
              "      <td>30.0</td>\n",
              "    </tr>\n",
              "    <tr>\n",
              "      <th>10</th>\n",
              "      <td>9.523810</td>\n",
              "      <td>0.838202</td>\n",
              "      <td>38.0</td>\n",
              "    </tr>\n",
              "    <tr>\n",
              "      <th>11</th>\n",
              "      <td>35.827664</td>\n",
              "      <td>1.473203</td>\n",
              "      <td>47.0</td>\n",
              "    </tr>\n",
              "  </tbody>\n",
              "</table>\n",
              "</div>"
            ],
            "text/plain": [
              "         Peso    Altura  Cateter\n",
              "0   18.140590  1.087122     37.0\n",
              "1   42.403628  1.612903     50.0\n",
              "2   16.099773  0.952502     34.0\n",
              "3   13.605442  1.003302     36.0\n",
              "4   23.582766  1.155702     43.0\n",
              "5    7.709751  0.977902     28.0\n",
              "6   17.460317  1.092202     37.0\n",
              "7    3.854875  0.571501     20.0\n",
              "8   14.965986  0.939802     34.0\n",
              "9    4.308390  0.596901     30.0\n",
              "10   9.523810  0.838202     38.0\n",
              "11  35.827664  1.473203     47.0"
            ]
          },
          "metadata": {
            "tags": []
          },
          "execution_count": 3
        }
      ]
    },
    {
      "cell_type": "markdown",
      "metadata": {
        "id": "auq4Zl1Fsp0m",
        "colab_type": "text"
      },
      "source": [
        "**Normalização dos Dados**"
      ]
    },
    {
      "cell_type": "code",
      "metadata": {
        "id": "rDjmRBu-ivqV",
        "colab_type": "code",
        "outputId": "9581ba98-9235-4eab-ac37-7551a5cca9aa",
        "colab": {
          "base_uri": "https://localhost:8080/",
          "height": 142
        }
      },
      "source": [
        "# correlacao entre as variaveis\n",
        "df.corr()"
      ],
      "execution_count": 0,
      "outputs": [
        {
          "output_type": "execute_result",
          "data": {
            "text/html": [
              "<div>\n",
              "<style scoped>\n",
              "    .dataframe tbody tr th:only-of-type {\n",
              "        vertical-align: middle;\n",
              "    }\n",
              "\n",
              "    .dataframe tbody tr th {\n",
              "        vertical-align: top;\n",
              "    }\n",
              "\n",
              "    .dataframe thead th {\n",
              "        text-align: right;\n",
              "    }\n",
              "</style>\n",
              "<table border=\"1\" class=\"dataframe\">\n",
              "  <thead>\n",
              "    <tr style=\"text-align: right;\">\n",
              "      <th></th>\n",
              "      <th>Peso</th>\n",
              "      <th>Altura</th>\n",
              "      <th>Cateter</th>\n",
              "    </tr>\n",
              "  </thead>\n",
              "  <tbody>\n",
              "    <tr>\n",
              "      <th>Peso</th>\n",
              "      <td>1.000000</td>\n",
              "      <td>0.961094</td>\n",
              "      <td>0.904510</td>\n",
              "    </tr>\n",
              "    <tr>\n",
              "      <th>Altura</th>\n",
              "      <td>0.961094</td>\n",
              "      <td>1.000000</td>\n",
              "      <td>0.892787</td>\n",
              "    </tr>\n",
              "    <tr>\n",
              "      <th>Cateter</th>\n",
              "      <td>0.904510</td>\n",
              "      <td>0.892787</td>\n",
              "      <td>1.000000</td>\n",
              "    </tr>\n",
              "  </tbody>\n",
              "</table>\n",
              "</div>"
            ],
            "text/plain": [
              "             Peso    Altura   Cateter\n",
              "Peso     1.000000  0.961094  0.904510\n",
              "Altura   0.961094  1.000000  0.892787\n",
              "Cateter  0.904510  0.892787  1.000000"
            ]
          },
          "metadata": {
            "tags": []
          },
          "execution_count": 4
        }
      ]
    },
    {
      "cell_type": "code",
      "metadata": {
        "id": "AAFFpCRMjQnN",
        "colab_type": "code",
        "outputId": "9c83c24c-ec58-417c-ac8e-c97dc8358adf",
        "colab": {
          "base_uri": "https://localhost:8080/",
          "height": 776
        }
      },
      "source": [
        "''' Distribuicao dos dados '''\n",
        "\n",
        "'''\n",
        "# Peso x Cateter \n",
        "figure1_log = plt.figure(figsize=(9,6))\n",
        "plt.scatter(np.log(df['Peso']), np.log(df['Cateter']))\n",
        "plt.xlabel('Peso')\n",
        "plt.ylabel('Cateter')\n",
        "'''\n",
        "\n",
        "# Peso x Cateter \n",
        "figure1 = plt.figure(figsize=(9,6))\n",
        "plt.scatter(df['Peso'], df['Cateter'])\n",
        "plt.xlabel('Peso')\n",
        "plt.ylabel('Cateter')\n",
        "\n",
        "# Altura x Cateter \n",
        "figure2 = plt.figure(figsize=(9,6))\n",
        "plt.scatter(df['Altura'], df['Cateter'])\n",
        "plt.xlabel('Altura')\n",
        "plt.ylabel('Cateter')"
      ],
      "execution_count": 0,
      "outputs": [
        {
          "output_type": "execute_result",
          "data": {
            "text/plain": [
              "Text(0, 0.5, 'Cateter')"
            ]
          },
          "metadata": {
            "tags": []
          },
          "execution_count": 5
        },
        {
          "output_type": "display_data",
          "data": {
            "image/png": "[encoded data removed]",
            "text/plain": [
              "<Figure size 648x432 with 1 Axes>"
            ]
          },
          "metadata": {
            "tags": []
          }
        },
        {
          "output_type": "display_data",
          "data": {
            "image/png": "[encoded data removed]",
            "text/plain": [
              "<Figure size 648x432 with 1 Axes>"
            ]
          },
          "metadata": {
            "tags": []
          }
        }
      ]
    },
    {
      "cell_type": "markdown",
      "metadata": {
        "id": "M00QjZSDdh00",
        "colab_type": "text"
      },
      "source": [
        "Normalização usando sklearn:"
      ]
    },
    {
      "cell_type": "code",
      "metadata": {
        "id": "F68Is1hvs9r5",
        "colab_type": "code",
        "outputId": "2c9de608-2a56-417b-bd75-91b6f2a60424",
        "colab": {
          "base_uri": "https://localhost:8080/",
          "height": 425
        }
      },
      "source": [
        "from sklearn.preprocessing import StandardScaler\n",
        "scaler = StandardScaler()\n",
        "data_scaled = scaler.fit_transform(df)\n",
        "new_df = pd.DataFrame(data_scaled)\n",
        "new_df = new_df.to_numpy()\n",
        "\n",
        "y_normal_sklearn = new_df[:,[-1]]\n",
        "x_normal_sklearn = new_df[:,:-1]\n",
        "\n",
        "x_normal_sklearn = np.hstack((np.ones((x_normal_sklearn.shape[0], 1)), x_normal_sklearn))\n",
        "\n",
        "print(x_normal_sklearn)\n",
        "print(y_normal_sklearn)"
      ],
      "execution_count": 0,
      "outputs": [
        {
          "output_type": "stream",
          "text": [
            "[[ 1.          0.07515517  0.21366613]\n",
            " [ 1.          2.21958262  2.02508821]\n",
            " [ 1.         -0.10521723 -0.25012793]\n",
            " [ 1.         -0.32567239 -0.0751113 ]\n",
            " [ 1.          0.55614824  0.44993858]\n",
            " [ 1.         -0.84674822 -0.16261962]\n",
            " [ 1.          0.01503103  0.23116779]\n",
            " [ 1.         -1.18745165 -1.56275262]\n",
            " [ 1.         -0.20542413 -0.29388208]\n",
            " [ 1.         -1.14736889 -1.47524431]\n",
            " [ 1.         -0.6864172  -0.64391534]\n",
            " [ 1.          1.63838266  1.54379249]]\n",
            "[[ 0.10643117]\n",
            " [ 1.76675743]\n",
            " [-0.27672104]\n",
            " [-0.02128623]\n",
            " [ 0.8727356 ]\n",
            " [-1.04302547]\n",
            " [ 0.10643117]\n",
            " [-2.0647647 ]\n",
            " [-0.27672104]\n",
            " [-0.78759066]\n",
            " [ 0.23414857]\n",
            " [ 1.38360521]]\n"
          ],
          "name": "stdout"
        }
      ]
    },
    {
      "cell_type": "markdown",
      "metadata": {
        "id": "9NV9xPgVdgtI",
        "colab_type": "text"
      },
      "source": [
        "Normalização do zero:"
      ]
    },
    {
      "cell_type": "code",
      "metadata": {
        "id": "Uyoo2nvcc0Z8",
        "colab_type": "code",
        "outputId": "60fb36cb-be5a-45f7-ca02-93577bd751e1",
        "colab": {
          "base_uri": "https://localhost:8080/",
          "height": 425
        }
      },
      "source": [
        "def normalizar(x, y):\n",
        "  x_normal = x / np.mean(x, axis=0)\n",
        "  y_normal = y / np.mean(y)\n",
        "  \n",
        "  return x_normal, y_normal\n",
        "\n",
        "dados = df.to_numpy()\n",
        "\n",
        "x_norma = dados[:,:-1]\n",
        "y_norma = dados[:,[-1]]\n",
        "testex,testey = normalizar(x_norma,y_norma)\n",
        "\n",
        "x_normal = dados[:,:-1]\n",
        "# x_i dividido pela media; para cara feature (coluna)\n",
        "x_normal = x_normal / np.mean(x_normal, axis=0)\n",
        "x_normal = np.hstack((np.ones((x_normal.shape[0], 1)), x_normal))\n",
        "\n",
        "y_normal = dados[:,[-1]]\n",
        "media_y = np.mean(y_normal)\n",
        "y_normal = y_normal / media_y  # y_i / media de y\n",
        "print(x_normal)\n",
        "print(y_normal)"
      ],
      "execution_count": 0,
      "outputs": [
        {
          "output_type": "stream",
          "text": [
            "[[1.         1.04918033 1.06049969]\n",
            " [1.         2.45245902 1.57340491]\n",
            " [1.         0.93114754 0.92917613]\n",
            " [1.         0.78688525 0.97873219]\n",
            " [1.         1.36393443 1.12740037]\n",
            " [1.         0.44590164 0.95395416]\n",
            " [1.         1.00983607 1.0654553 ]\n",
            " [1.         0.22295082 0.55750568]\n",
            " [1.         0.86557377 0.91678712]\n",
            " [1.         0.24918033 0.58228371]\n",
            " [1.         0.55081967 0.81767499]\n",
            " [1.         2.07213115 1.43712575]]\n",
            "[[1.02304147]\n",
            " [1.38248848]\n",
            " [0.94009217]\n",
            " [0.99539171]\n",
            " [1.18894009]\n",
            " [0.77419355]\n",
            " [1.02304147]\n",
            " [0.55299539]\n",
            " [0.94009217]\n",
            " [0.82949309]\n",
            " [1.05069124]\n",
            " [1.29953917]]\n"
          ],
          "name": "stdout"
        }
      ]
    },
    {
      "cell_type": "markdown",
      "metadata": {
        "id": "V2Ldxf0V1fWv",
        "colab_type": "text"
      },
      "source": [
        "**Gradiente Descendente**"
      ]
    },
    {
      "cell_type": "code",
      "metadata": {
        "id": "cBP6y5w7_VX5",
        "colab_type": "code",
        "colab": {}
      },
      "source": [
        "def gd(x, y, training_iters=10000, learning_rate=0.01):\n",
        "\n",
        "  w = np.zeros(x.shape[1])[np.newaxis].T\n",
        "\n",
        "  for _ in range(training_iters):\n",
        "    y_hat = pred(w, x)\n",
        "    error = y_hat - y\n",
        "    w = w - (learning_rate * np.mean(error * x, axis=0)[np.newaxis].T)\n",
        "\n",
        "  return w\n",
        "\n",
        "def pred(w, x):\n",
        "  return x @ w"
      ],
      "execution_count": 0,
      "outputs": []
    },
    {
      "cell_type": "code",
      "metadata": {
        "id": "7QIt1Dvm_W0U",
        "colab_type": "code",
        "outputId": "6a0b75a5-3598-4e37-fdc2-930362f244c9",
        "colab": {
          "base_uri": "https://localhost:8080/",
          "height": 85
        }
      },
      "source": [
        "w_gd = gd(x_normal, y_normal, 1000, 0.1)\n",
        "print(pred(w_gd, x_normal).T)\n",
        "print(y_normal.T)"
      ],
      "execution_count": 0,
      "outputs": [
        {
          "output_type": "stream",
          "text": [
            "[[1.0271196  1.42501557 0.96594237 0.95717798 1.10123921 0.89186974\n",
            "  1.02203961 0.72968339 0.9509874  0.74189415 0.86674602 1.31803325]]\n",
            "[[1.02304147 1.38248848 0.94009217 0.99539171 1.18894009 0.77419355\n",
            "  1.02304147 0.55299539 0.94009217 0.82949309 1.05069124 1.29953917]]\n"
          ],
          "name": "stdout"
        }
      ]
    },
    {
      "cell_type": "markdown",
      "metadata": {
        "id": "21LeYCLeKRdj",
        "colab_type": "text"
      },
      "source": [
        "**GRADIENTE DESCENDENTE ESTOCASTICO**"
      ]
    },
    {
      "cell_type": "code",
      "metadata": {
        "id": "G7sdLLoSvHwT",
        "colab_type": "code",
        "colab": {}
      },
      "source": [
        "def gde(x, y, training_iters=10000, learning_rate=0.01, batch_size=10):\n",
        "  import random\n",
        "\n",
        "  w = np.zeros(x.shape[1])[np.newaxis].T\n",
        "\n",
        "  for _ in range(training_iters):\n",
        "    \n",
        "    # pos de inicio do lote\n",
        "    offset = random.randint(0, x_normal.shape[0] - batch_size)\n",
        "    # pega as linhas de x da posicao offset a posicao offset+batch_size\n",
        "    batch_x = x[offset:(offset + batch_size), :]\n",
        "    # pega as linhas de y da posicao offset a posicao offset+batch_size\n",
        "    batch_y = y[offset:(offset + batch_size)]\n",
        "\n",
        "    y_hat = pred(w, batch_x)\n",
        "    error = y_hat - batch_y\n",
        "    w = w - (learning_rate * np.mean(error * batch_x, axis=0)[np.newaxis].T)\n",
        "\n",
        "  return w\n",
        "\n",
        "def pred(w, x):\n",
        "  return x @ w"
      ],
      "execution_count": 0,
      "outputs": []
    },
    {
      "cell_type": "code",
      "metadata": {
        "colab_type": "code",
        "outputId": "8b33d442-11c2-435b-f5ab-78aa55a816e2",
        "id": "0hMJALnP32Nm",
        "colab": {
          "base_uri": "https://localhost:8080/",
          "height": 85
        }
      },
      "source": [
        "w_gde = gde(x_normal, y_normal, 1000, 0.1)\n",
        "print(pred(w_gde, x_normal).T)\n",
        "print(y_normal.T)"
      ],
      "execution_count": 0,
      "outputs": [
        {
          "output_type": "stream",
          "text": [
            "[[1.02308836 1.44340572 0.96132202 0.94874843 1.10294506 0.87652355\n",
            "  1.01709537 0.71540671 0.94514905 0.72781317 0.85564427 1.33030639]]\n",
            "[[1.02304147 1.38248848 0.94009217 0.99539171 1.18894009 0.77419355\n",
            "  1.02304147 0.55299539 0.94009217 0.82949309 1.05069124 1.29953917]]\n"
          ],
          "name": "stdout"
        }
      ]
    },
    {
      "cell_type": "markdown",
      "metadata": {
        "id": "PbYdVCT8Gf6u",
        "colab_type": "text"
      },
      "source": [
        "**REGRESSÃO LINEAR ANALÍTICA**"
      ]
    },
    {
      "cell_type": "markdown",
      "metadata": {
        "id": "_aeAeClLKDha",
        "colab_type": "text"
      },
      "source": [
        "MÉTODO DOS MÍNIMOS QUADRADOS (OLS)"
      ]
    },
    {
      "cell_type": "code",
      "metadata": {
        "id": "bJjyqnRbGrQA",
        "colab_type": "code",
        "colab": {}
      },
      "source": [
        "def ols(x, y):\n",
        "  from numpy.linalg import inv\n",
        "  return inv(x.T @ x) @ x.T @ y"
      ],
      "execution_count": 0,
      "outputs": []
    },
    {
      "cell_type": "code",
      "metadata": {
        "id": "vc9GaQQlGv4W",
        "colab_type": "code",
        "outputId": "3b244a90-37cf-4fdb-d87f-6eba1cac75a8",
        "colab": {
          "base_uri": "https://localhost:8080/",
          "height": 85
        }
      },
      "source": [
        "w_ols = ols(x_normal, y_normal)\n",
        "print(pred(w_ols, x_normal).T)\n",
        "print(y_normal.T)"
      ],
      "execution_count": 0,
      "outputs": [
        {
          "output_type": "stream",
          "text": [
            "[[1.02413486 1.42743567 0.96947438 0.95206809 1.10327283 0.87755248\n",
            "  1.01737469 0.73940696 0.95335149 0.7505178  0.86663828 1.31877246]]\n",
            "[[1.02304147 1.38248848 0.94009217 0.99539171 1.18894009 0.77419355\n",
            "  1.02304147 0.55299539 0.94009217 0.82949309 1.05069124 1.29953917]]\n"
          ],
          "name": "stdout"
        }
      ]
    },
    {
      "cell_type": "markdown",
      "metadata": {
        "id": "3Hy4j6cnAFfv",
        "colab_type": "text"
      },
      "source": [
        "**Comparação dos algoritmos:**"
      ]
    },
    {
      "cell_type": "code",
      "metadata": {
        "id": "PqyPuq4D5mT4",
        "colab_type": "code",
        "outputId": "7bac19ce-5106-4bb1-8de0-3b4c1751b5b0",
        "colab": {
          "base_uri": "https://localhost:8080/",
          "height": 153
        }
      },
      "source": [
        "from sklearn.linear_model import LinearRegression\n",
        "from sklearn.metrics import mean_squared_error\n",
        "\n",
        "ln = LinearRegression()\n",
        "ln.fit(x_normal, y_normal)\n",
        "\n",
        "y_pred = ln.predict(x_normal)\n",
        "y_pred_zero_gd = pred(w_gd, x_normal)\n",
        "y_pred_zero_gde = pred(w_gde, x_normal)\n",
        "y_pred_zero_ols = pred(w_ols, x_normal)\n",
        "\n",
        "rmse = np.sqrt(mean_squared_error(y_normal, y_pred))\n",
        "rmse_zero_gd = np.sqrt(mean_squared_error(y_normal, y_pred_zero_gd))\n",
        "rmse_zero_gde = np.sqrt(mean_squared_error(y_normal, y_pred_zero_gde))\n",
        "rmse_zero_ols = np.sqrt(mean_squared_error(y_normal, y_pred_zero_ols))\n",
        "\n",
        "print('Regressão Linear usando sklearn: ', rmse)\n",
        "print('Regressão Linear Simples GD do zero: ', rmse_zero_gd)\n",
        "print('Regressão Linear Simples GDE do zero: ', rmse_zero_gde)\n",
        "print('Regressão Linear Simples OLS do zero: ', rmse_zero_ols)\n",
        "\n",
        "# soma dos erros ao quadrado\n",
        "print(np.sum((y_pred.T[0] - y_normal.T[0])**2))\n",
        "print(np.sum((pred(w_gd, x_normal).T[0] - y_normal.T[0])**2))\n",
        "print(np.sum((pred(w_gde, x_normal).T[0] - y_normal.T[0])**2))\n",
        "print(np.sum((pred(w_ols, x_normal).T[0] - y_normal.T[0])**2))"
      ],
      "execution_count": 0,
      "outputs": [
        {
          "output_type": "stream",
          "text": [
            "Regressão Linear usando sklearn:  0.09047253223367173\n",
            "Regressão Linear Simples GD do zero:  0.09068381133078375\n",
            "Regressão Linear Simples GDE do zero:  0.0912738112227017\n",
            "Regressão Linear Simples OLS do zero:  0.09047253223367169\n",
            "0.09822334906527322\n",
            "0.0986826436497262\n",
            "0.09997090338140865\n",
            "0.09822334906527316\n"
          ],
          "name": "stdout"
        }
      ]
    },
    {
      "cell_type": "code",
      "metadata": {
        "id": "mn61KMi1OSok",
        "colab_type": "code",
        "outputId": "629e9463-2240-48ed-b8d7-0bf433b7a7fa",
        "colab": {
          "base_uri": "https://localhost:8080/",
          "height": 248
        }
      },
      "source": [
        "fig = plt.figure()\n",
        "ax = fig.add_subplot(projection='3d')\n",
        "\n",
        "ax.scatter(df['Peso'], df['Altura'], df['Cateter'],\n",
        "           color='teal', label='dados reais')\n",
        "ax.scatter(df['Peso'], df['Altura'], pred(w_gd, x_normal) * media_y,\n",
        "           color='orange', label='dados previstos')\n",
        "\n",
        "ax.set_xlabel('Peso')\n",
        "ax.set_ylabel('Altura')\n",
        "ax.set_zlabel('Cateter')\n",
        "\n",
        "ax.legend()\n",
        "\n",
        "plt.show()"
      ],
      "execution_count": 0,
      "outputs": [
        {
          "output_type": "display_data",
          "data": {
            "image/png": "[encoded data removed]",
            "text/plain": [
              "<Figure size 432x288 with 1 Axes>"
            ]
          },
          "metadata": {
            "tags": []
          }
        }
      ]
    },
    {
      "cell_type": "code",
      "metadata": {
        "id": "ylEXD3d2Ukvm",
        "colab_type": "code",
        "outputId": "91ba7583-4b3f-40bf-f636-b01e711d5ffe",
        "colab": {
          "base_uri": "https://localhost:8080/",
          "height": 136
        }
      },
      "source": [
        "from sklearn.datasets import load_boston\n",
        "\n",
        "x, y = load_boston(return_X_y=True)\n",
        "y = y[np.newaxis].T\n",
        "print(x)"
      ],
      "execution_count": 0,
      "outputs": [
        {
          "output_type": "stream",
          "text": [
            "[[6.3200e-03 1.8000e+01 2.3100e+00 ... 1.5300e+01 3.9690e+02 4.9800e+00]\n",
            " [2.7310e-02 0.0000e+00 7.0700e+00 ... 1.7800e+01 3.9690e+02 9.1400e+00]\n",
            " [2.7290e-02 0.0000e+00 7.0700e+00 ... 1.7800e+01 3.9283e+02 4.0300e+00]\n",
            " ...\n",
            " [6.0760e-02 0.0000e+00 1.1930e+01 ... 2.1000e+01 3.9690e+02 5.6400e+00]\n",
            " [1.0959e-01 0.0000e+00 1.1930e+01 ... 2.1000e+01 3.9345e+02 6.4800e+00]\n",
            " [4.7410e-02 0.0000e+00 1.1930e+01 ... 2.1000e+01 3.9690e+02 7.8800e+00]]\n"
          ],
          "name": "stdout"
        }
      ]
    }
  ]
}