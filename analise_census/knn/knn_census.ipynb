{
 "cells": [
  {
   "cell_type": "code",
   "execution_count": 1,
   "metadata": {},
   "outputs": [],
   "source": [
    "import pandas as pd"
   ]
  },
  {
   "cell_type": "code",
   "execution_count": 2,
   "metadata": {},
   "outputs": [],
   "source": [
    "base = pd.read_csv('../datasets/census.csv')"
   ]
  },
  {
   "cell_type": "code",
   "execution_count": 3,
   "metadata": {},
   "outputs": [
    {
     "output_type": "execute_result",
     "data": {
      "text/plain": "(32561, 15)"
     },
     "metadata": {},
     "execution_count": 3
    }
   ],
   "source": [
    "base.shape"
   ]
  },
  {
   "cell_type": "code",
   "execution_count": 4,
   "metadata": {},
   "outputs": [
    {
     "output_type": "execute_result",
     "data": {
      "text/plain": "   age          workclass  final-weight   education  education-num  \\\n0   39          State-gov         77516   Bachelors             13   \n1   50   Self-emp-not-inc         83311   Bachelors             13   \n2   38            Private        215646     HS-grad              9   \n3   53            Private        234721        11th              7   \n4   28            Private        338409   Bachelors             13   \n\n        marital-status          occupation    relationship    race      sex  \\\n0        Never-married        Adm-clerical   Not-in-family   White     Male   \n1   Married-civ-spouse     Exec-managerial         Husband   White     Male   \n2             Divorced   Handlers-cleaners   Not-in-family   White     Male   \n3   Married-civ-spouse   Handlers-cleaners         Husband   Black     Male   \n4   Married-civ-spouse      Prof-specialty            Wife   Black   Female   \n\n   capital-gain  capital-loos  hour-per-week  native-country  income  \n0          2174             0             40   United-States   <=50K  \n1             0             0             13   United-States   <=50K  \n2             0             0             40   United-States   <=50K  \n3             0             0             40   United-States   <=50K  \n4             0             0             40            Cuba   <=50K  ",
      "text/html": "<div>\n<style scoped>\n    .dataframe tbody tr th:only-of-type {\n        vertical-align: middle;\n    }\n\n    .dataframe tbody tr th {\n        vertical-align: top;\n    }\n\n    .dataframe thead th {\n        text-align: right;\n    }\n</style>\n<table border=\"1\" class=\"dataframe\">\n  <thead>\n    <tr style=\"text-align: right;\">\n      <th></th>\n      <th>age</th>\n      <th>workclass</th>\n      <th>final-weight</th>\n      <th>education</th>\n      <th>education-num</th>\n      <th>marital-status</th>\n      <th>occupation</th>\n      <th>relationship</th>\n      <th>race</th>\n      <th>sex</th>\n      <th>capital-gain</th>\n      <th>capital-loos</th>\n      <th>hour-per-week</th>\n      <th>native-country</th>\n      <th>income</th>\n    </tr>\n  </thead>\n  <tbody>\n    <tr>\n      <th>0</th>\n      <td>39</td>\n      <td>State-gov</td>\n      <td>77516</td>\n      <td>Bachelors</td>\n      <td>13</td>\n      <td>Never-married</td>\n      <td>Adm-clerical</td>\n      <td>Not-in-family</td>\n      <td>White</td>\n      <td>Male</td>\n      <td>2174</td>\n      <td>0</td>\n      <td>40</td>\n      <td>United-States</td>\n      <td>&lt;=50K</td>\n    </tr>\n    <tr>\n      <th>1</th>\n      <td>50</td>\n      <td>Self-emp-not-inc</td>\n      <td>83311</td>\n      <td>Bachelors</td>\n      <td>13</td>\n      <td>Married-civ-spouse</td>\n      <td>Exec-managerial</td>\n      <td>Husband</td>\n      <td>White</td>\n      <td>Male</td>\n      <td>0</td>\n      <td>0</td>\n      <td>13</td>\n      <td>United-States</td>\n      <td>&lt;=50K</td>\n    </tr>\n    <tr>\n      <th>2</th>\n      <td>38</td>\n      <td>Private</td>\n      <td>215646</td>\n      <td>HS-grad</td>\n      <td>9</td>\n      <td>Divorced</td>\n      <td>Handlers-cleaners</td>\n      <td>Not-in-family</td>\n      <td>White</td>\n      <td>Male</td>\n      <td>0</td>\n      <td>0</td>\n      <td>40</td>\n      <td>United-States</td>\n      <td>&lt;=50K</td>\n    </tr>\n    <tr>\n      <th>3</th>\n      <td>53</td>\n      <td>Private</td>\n      <td>234721</td>\n      <td>11th</td>\n      <td>7</td>\n      <td>Married-civ-spouse</td>\n      <td>Handlers-cleaners</td>\n      <td>Husband</td>\n      <td>Black</td>\n      <td>Male</td>\n      <td>0</td>\n      <td>0</td>\n      <td>40</td>\n      <td>United-States</td>\n      <td>&lt;=50K</td>\n    </tr>\n    <tr>\n      <th>4</th>\n      <td>28</td>\n      <td>Private</td>\n      <td>338409</td>\n      <td>Bachelors</td>\n      <td>13</td>\n      <td>Married-civ-spouse</td>\n      <td>Prof-specialty</td>\n      <td>Wife</td>\n      <td>Black</td>\n      <td>Female</td>\n      <td>0</td>\n      <td>0</td>\n      <td>40</td>\n      <td>Cuba</td>\n      <td>&lt;=50K</td>\n    </tr>\n  </tbody>\n</table>\n</div>"
     },
     "metadata": {},
     "execution_count": 4
    }
   ],
   "source": [
    "base.head()"
   ]
  },
  {
   "cell_type": "code",
   "execution_count": 5,
   "metadata": {},
   "outputs": [],
   "source": [
    "# Normalização\n",
    "\n",
    "# age, final-weight, education-num, capital-gain, capital-loos, hour-per-week\n",
    "\n",
    "from sklearn.preprocessing import StandardScaler\n",
    "\n",
    "scaler = StandardScaler()\n",
    "\n",
    "base[['age', 'final-weight', 'education-num', 'capital-gain', 'capital-loos', 'hour-per-week']] = scaler.fit_transform(base[['age', 'final-weight', 'education-num', 'capital-gain', 'capital-loos', 'hour-per-week']])\n",
    ""
   ]
  },
  {
   "cell_type": "code",
   "execution_count": 6,
   "metadata": {},
   "outputs": [],
   "source": [
    "\n",
    "# transformacao por nome da coluna\n",
    "#pd.get_dummies(base, columns=['sex'])\n",
    "\n",
    "# transformacao por indice da coluna\n",
    "column_names_for_onehot = base.columns[[1, 3, 5, 6, 7, 8, 9, 13]]\n",
    "base_encode = pd.get_dummies(base, columns=column_names_for_onehot, drop_first=True)\n",
    "\n",
    "# Separação do dataset em previsores e classe\n",
    "previsores = base_encode.loc[:, base_encode.columns!='income'].values\n",
    "classe = base_encode['income'].values"
   ]
  },
  {
   "cell_type": "code",
   "execution_count": 7,
   "metadata": {},
   "outputs": [
    {
     "output_type": "execute_result",
     "data": {
      "text/plain": "            age  final-weight  education-num  capital-gain  capital-loos  \\\n0      0.030671     -1.063611       1.134739      0.148453      -0.21666   \n1      0.837109     -1.008707       1.134739     -0.145920      -0.21666   \n2     -0.042642      0.245079      -0.420060     -0.145920      -0.21666   \n3      1.057047      0.425801      -1.197459     -0.145920      -0.21666   \n4     -0.775768      1.408176       1.134739     -0.145920      -0.21666   \n...         ...           ...            ...           ...           ...   \n32556 -0.849080      0.639741       0.746039     -0.145920      -0.21666   \n32557  0.103983     -0.335433      -0.420060     -0.145920      -0.21666   \n32558  1.423610     -0.358777      -0.420060     -0.145920      -0.21666   \n32559 -1.215643      0.110960      -0.420060     -0.145920      -0.21666   \n32560  0.983734      0.929893      -0.420060      1.888424      -0.21666   \n\n       hour-per-week  income  workclass_ Federal-gov  workclass_ Local-gov  \\\n0          -0.035429   <=50K                       0                     0   \n1          -2.222153   <=50K                       0                     0   \n2          -0.035429   <=50K                       0                     0   \n3          -0.035429   <=50K                       0                     0   \n4          -0.035429   <=50K                       0                     0   \n...              ...     ...                     ...                   ...   \n32556      -0.197409   <=50K                       0                     0   \n32557      -0.035429    >50K                       0                     0   \n32558      -0.035429   <=50K                       0                     0   \n32559      -1.655225   <=50K                       0                     0   \n32560      -0.035429    >50K                       0                     0   \n\n       workclass_ Never-worked  ...  native-country_ Portugal  \\\n0                            0  ...                         0   \n1                            0  ...                         0   \n2                            0  ...                         0   \n3                            0  ...                         0   \n4                            0  ...                         0   \n...                        ...  ...                       ...   \n32556                        0  ...                         0   \n32557                        0  ...                         0   \n32558                        0  ...                         0   \n32559                        0  ...                         0   \n32560                        0  ...                         0   \n\n       native-country_ Puerto-Rico  native-country_ Scotland  \\\n0                                0                         0   \n1                                0                         0   \n2                                0                         0   \n3                                0                         0   \n4                                0                         0   \n...                            ...                       ...   \n32556                            0                         0   \n32557                            0                         0   \n32558                            0                         0   \n32559                            0                         0   \n32560                            0                         0   \n\n       native-country_ South  native-country_ Taiwan  \\\n0                          0                       0   \n1                          0                       0   \n2                          0                       0   \n3                          0                       0   \n4                          0                       0   \n...                      ...                     ...   \n32556                      0                       0   \n32557                      0                       0   \n32558                      0                       0   \n32559                      0                       0   \n32560                      0                       0   \n\n       native-country_ Thailand  native-country_ Trinadad&Tobago  \\\n0                             0                                0   \n1                             0                                0   \n2                             0                                0   \n3                             0                                0   \n4                             0                                0   \n...                         ...                              ...   \n32556                         0                                0   \n32557                         0                                0   \n32558                         0                                0   \n32559                         0                                0   \n32560                         0                                0   \n\n       native-country_ United-States  native-country_ Vietnam  \\\n0                                  1                        0   \n1                                  1                        0   \n2                                  1                        0   \n3                                  1                        0   \n4                                  0                        0   \n...                              ...                      ...   \n32556                              1                        0   \n32557                              1                        0   \n32558                              1                        0   \n32559                              1                        0   \n32560                              1                        0   \n\n       native-country_ Yugoslavia  \n0                               0  \n1                               0  \n2                               0  \n3                               0  \n4                               0  \n...                           ...  \n32556                           0  \n32557                           0  \n32558                           0  \n32559                           0  \n32560                           0  \n\n[32561 rows x 101 columns]",
      "text/html": "<div>\n<style scoped>\n    .dataframe tbody tr th:only-of-type {\n        vertical-align: middle;\n    }\n\n    .dataframe tbody tr th {\n        vertical-align: top;\n    }\n\n    .dataframe thead th {\n        text-align: right;\n    }\n</style>\n<table border=\"1\" class=\"dataframe\">\n  <thead>\n    <tr style=\"text-align: right;\">\n      <th></th>\n      <th>age</th>\n      <th>final-weight</th>\n      <th>education-num</th>\n      <th>capital-gain</th>\n      <th>capital-loos</th>\n      <th>hour-per-week</th>\n      <th>income</th>\n      <th>workclass_ Federal-gov</th>\n      <th>workclass_ Local-gov</th>\n      <th>workclass_ Never-worked</th>\n      <th>...</th>\n      <th>native-country_ Portugal</th>\n      <th>native-country_ Puerto-Rico</th>\n      <th>native-country_ Scotland</th>\n      <th>native-country_ South</th>\n      <th>native-country_ Taiwan</th>\n      <th>native-country_ Thailand</th>\n      <th>native-country_ Trinadad&amp;Tobago</th>\n      <th>native-country_ United-States</th>\n      <th>native-country_ Vietnam</th>\n      <th>native-country_ Yugoslavia</th>\n    </tr>\n  </thead>\n  <tbody>\n    <tr>\n      <th>0</th>\n      <td>0.030671</td>\n      <td>-1.063611</td>\n      <td>1.134739</td>\n      <td>0.148453</td>\n      <td>-0.21666</td>\n      <td>-0.035429</td>\n      <td>&lt;=50K</td>\n      <td>0</td>\n      <td>0</td>\n      <td>0</td>\n      <td>...</td>\n      <td>0</td>\n      <td>0</td>\n      <td>0</td>\n      <td>0</td>\n      <td>0</td>\n      <td>0</td>\n      <td>0</td>\n      <td>1</td>\n      <td>0</td>\n      <td>0</td>\n    </tr>\n    <tr>\n      <th>1</th>\n      <td>0.837109</td>\n      <td>-1.008707</td>\n      <td>1.134739</td>\n      <td>-0.145920</td>\n      <td>-0.21666</td>\n      <td>-2.222153</td>\n      <td>&lt;=50K</td>\n      <td>0</td>\n      <td>0</td>\n      <td>0</td>\n      <td>...</td>\n      <td>0</td>\n      <td>0</td>\n      <td>0</td>\n      <td>0</td>\n      <td>0</td>\n      <td>0</td>\n      <td>0</td>\n      <td>1</td>\n      <td>0</td>\n      <td>0</td>\n    </tr>\n    <tr>\n      <th>2</th>\n      <td>-0.042642</td>\n      <td>0.245079</td>\n      <td>-0.420060</td>\n      <td>-0.145920</td>\n      <td>-0.21666</td>\n      <td>-0.035429</td>\n      <td>&lt;=50K</td>\n      <td>0</td>\n      <td>0</td>\n      <td>0</td>\n      <td>...</td>\n      <td>0</td>\n      <td>0</td>\n      <td>0</td>\n      <td>0</td>\n      <td>0</td>\n      <td>0</td>\n      <td>0</td>\n      <td>1</td>\n      <td>0</td>\n      <td>0</td>\n    </tr>\n    <tr>\n      <th>3</th>\n      <td>1.057047</td>\n      <td>0.425801</td>\n      <td>-1.197459</td>\n      <td>-0.145920</td>\n      <td>-0.21666</td>\n      <td>-0.035429</td>\n      <td>&lt;=50K</td>\n      <td>0</td>\n      <td>0</td>\n      <td>0</td>\n      <td>...</td>\n      <td>0</td>\n      <td>0</td>\n      <td>0</td>\n      <td>0</td>\n      <td>0</td>\n      <td>0</td>\n      <td>0</td>\n      <td>1</td>\n      <td>0</td>\n      <td>0</td>\n    </tr>\n    <tr>\n      <th>4</th>\n      <td>-0.775768</td>\n      <td>1.408176</td>\n      <td>1.134739</td>\n      <td>-0.145920</td>\n      <td>-0.21666</td>\n      <td>-0.035429</td>\n      <td>&lt;=50K</td>\n      <td>0</td>\n      <td>0</td>\n      <td>0</td>\n      <td>...</td>\n      <td>0</td>\n      <td>0</td>\n      <td>0</td>\n      <td>0</td>\n      <td>0</td>\n      <td>0</td>\n      <td>0</td>\n      <td>0</td>\n      <td>0</td>\n      <td>0</td>\n    </tr>\n    <tr>\n      <th>...</th>\n      <td>...</td>\n      <td>...</td>\n      <td>...</td>\n      <td>...</td>\n      <td>...</td>\n      <td>...</td>\n      <td>...</td>\n      <td>...</td>\n      <td>...</td>\n      <td>...</td>\n      <td>...</td>\n      <td>...</td>\n      <td>...</td>\n      <td>...</td>\n      <td>...</td>\n      <td>...</td>\n      <td>...</td>\n      <td>...</td>\n      <td>...</td>\n      <td>...</td>\n      <td>...</td>\n    </tr>\n    <tr>\n      <th>32556</th>\n      <td>-0.849080</td>\n      <td>0.639741</td>\n      <td>0.746039</td>\n      <td>-0.145920</td>\n      <td>-0.21666</td>\n      <td>-0.197409</td>\n      <td>&lt;=50K</td>\n      <td>0</td>\n      <td>0</td>\n      <td>0</td>\n      <td>...</td>\n      <td>0</td>\n      <td>0</td>\n      <td>0</td>\n      <td>0</td>\n      <td>0</td>\n      <td>0</td>\n      <td>0</td>\n      <td>1</td>\n      <td>0</td>\n      <td>0</td>\n    </tr>\n    <tr>\n      <th>32557</th>\n      <td>0.103983</td>\n      <td>-0.335433</td>\n      <td>-0.420060</td>\n      <td>-0.145920</td>\n      <td>-0.21666</td>\n      <td>-0.035429</td>\n      <td>&gt;50K</td>\n      <td>0</td>\n      <td>0</td>\n      <td>0</td>\n      <td>...</td>\n      <td>0</td>\n      <td>0</td>\n      <td>0</td>\n      <td>0</td>\n      <td>0</td>\n      <td>0</td>\n      <td>0</td>\n      <td>1</td>\n      <td>0</td>\n      <td>0</td>\n    </tr>\n    <tr>\n      <th>32558</th>\n      <td>1.423610</td>\n      <td>-0.358777</td>\n      <td>-0.420060</td>\n      <td>-0.145920</td>\n      <td>-0.21666</td>\n      <td>-0.035429</td>\n      <td>&lt;=50K</td>\n      <td>0</td>\n      <td>0</td>\n      <td>0</td>\n      <td>...</td>\n      <td>0</td>\n      <td>0</td>\n      <td>0</td>\n      <td>0</td>\n      <td>0</td>\n      <td>0</td>\n      <td>0</td>\n      <td>1</td>\n      <td>0</td>\n      <td>0</td>\n    </tr>\n    <tr>\n      <th>32559</th>\n      <td>-1.215643</td>\n      <td>0.110960</td>\n      <td>-0.420060</td>\n      <td>-0.145920</td>\n      <td>-0.21666</td>\n      <td>-1.655225</td>\n      <td>&lt;=50K</td>\n      <td>0</td>\n      <td>0</td>\n      <td>0</td>\n      <td>...</td>\n      <td>0</td>\n      <td>0</td>\n      <td>0</td>\n      <td>0</td>\n      <td>0</td>\n      <td>0</td>\n      <td>0</td>\n      <td>1</td>\n      <td>0</td>\n      <td>0</td>\n    </tr>\n    <tr>\n      <th>32560</th>\n      <td>0.983734</td>\n      <td>0.929893</td>\n      <td>-0.420060</td>\n      <td>1.888424</td>\n      <td>-0.21666</td>\n      <td>-0.035429</td>\n      <td>&gt;50K</td>\n      <td>0</td>\n      <td>0</td>\n      <td>0</td>\n      <td>...</td>\n      <td>0</td>\n      <td>0</td>\n      <td>0</td>\n      <td>0</td>\n      <td>0</td>\n      <td>0</td>\n      <td>0</td>\n      <td>1</td>\n      <td>0</td>\n      <td>0</td>\n    </tr>\n  </tbody>\n</table>\n<p>32561 rows × 101 columns</p>\n</div>"
     },
     "metadata": {},
     "execution_count": 7
    }
   ],
   "source": [
    "base_encode"
   ]
  },
  {
   "cell_type": "code",
   "execution_count": 8,
   "metadata": {},
   "outputs": [
    {
     "output_type": "execute_result",
     "data": {
      "text/plain": "array([[ 0.03067056, -1.06361075,  1.13473876, ...,  1.        ,\n         0.        ,  0.        ],\n       [ 0.83710898, -1.008707  ,  1.13473876, ...,  1.        ,\n         0.        ,  0.        ],\n       [-0.04264203,  0.2450785 , -0.42005962, ...,  1.        ,\n         0.        ,  0.        ],\n       ...,\n       [ 1.42360965, -0.35877741, -0.42005962, ...,  1.        ,\n         0.        ,  0.        ],\n       [-1.21564337,  0.11095988, -0.42005962, ...,  1.        ,\n         0.        ,  0.        ],\n       [ 0.98373415,  0.92989258, -0.42005962, ...,  1.        ,\n         0.        ,  0.        ]])"
     },
     "metadata": {},
     "execution_count": 8
    }
   ],
   "source": [
    "previsores"
   ]
  },
  {
   "cell_type": "code",
   "execution_count": 9,
   "metadata": {},
   "outputs": [
    {
     "output_type": "execute_result",
     "data": {
      "text/plain": "array([' <=50K', ' <=50K', ' <=50K', ..., ' <=50K', ' <=50K', ' >50K'],\n      dtype=object)"
     },
     "metadata": {},
     "execution_count": 9
    }
   ],
   "source": [
    "classe"
   ]
  },
  {
   "cell_type": "code",
   "execution_count": 10,
   "metadata": {},
   "outputs": [],
   "source": [
    "# Separação do dataset em previsores e classe\n",
    "\n",
    "previsores = base.iloc[:, 0:14].values\n",
    "classe = base.iloc[:, 14].values"
   ]
  },
  {
   "cell_type": "code",
   "execution_count": 11,
   "metadata": {},
   "outputs": [],
   "source": [
    "# Transformação de variáveis categóricas em numéricas\n",
    "\n",
    "from sklearn.preprocessing import LabelEncoder, OneHotEncoder\n",
    "\n",
    "labelencoder_previsores = LabelEncoder()\n",
    "previsores[:, 1] = labelencoder_previsores.fit_transform(previsores[:, 1])\n",
    "previsores[:, 3] = labelencoder_previsores.fit_transform(previsores[:, 3])\n",
    "previsores[:, 5] = labelencoder_previsores.fit_transform(previsores[:, 5])\n",
    "previsores[:, 6] = labelencoder_previsores.fit_transform(previsores[:, 6])\n",
    "previsores[:, 7] = labelencoder_previsores.fit_transform(previsores[:, 7])\n",
    "previsores[:, 8] = labelencoder_previsores.fit_transform(previsores[:, 8])\n",
    "previsores[:, 9] = labelencoder_previsores.fit_transform(previsores[:, 9])\n",
    "previsores[:, 13] = labelencoder_previsores.fit_transform(previsores[:, 13])"
   ]
  },
  {
   "cell_type": "code",
   "execution_count": 12,
   "metadata": {},
   "outputs": [
    {
     "output_type": "execute_result",
     "data": {
      "text/plain": "array([0.030670557354391753, 7, -1.0636107451560883, 9,\n       1.1347387637961643, 4, 1, 1, 4, 1, 0.14845289521747937,\n       -0.21665952703259014, -0.03542944697277691, 39], dtype=object)"
     },
     "metadata": {},
     "execution_count": 12
    }
   ],
   "source": [
    "previsores[0]"
   ]
  },
  {
   "cell_type": "code",
   "execution_count": 13,
   "metadata": {},
   "outputs": [
    {
     "output_type": "execute_result",
     "data": {
      "text/plain": "\"\\nfrom sklearn.compose import ColumnTransformer\\n\\nct = ColumnTransformer(\\n    [('one_hot_encoder', OneHotEncoder(categories='auto'), [1, 3, 5, 6, 7, 8, 9, 13])],\\n    remainder='passthrough'\\n)\\n\\nprevisores = ct.fit_transform(previsores).toarray()\\n\""
     },
     "metadata": {},
     "execution_count": 13
    }
   ],
   "source": [
    "# Transformação de variáveis nominais (sem ordenação) em \n",
    "# numéricas (variaveis do tipo dummy)\n",
    "'''\n",
    "from sklearn.compose import ColumnTransformer\n",
    "\n",
    "ct = ColumnTransformer(\n",
    "    [('one_hot_encoder', OneHotEncoder(categories='auto'), [1, 3, 5, 6, 7, 8, 9, 13])],\n",
    "    remainder='passthrough'\n",
    ")\n",
    "\n",
    "previsores = ct.fit_transform(previsores).toarray()\n",
    "'''"
   ]
  },
  {
   "cell_type": "code",
   "execution_count": 14,
   "metadata": {},
   "outputs": [
    {
     "output_type": "execute_result",
     "data": {
      "text/plain": "array([0.030670557354391753, 7, -1.0636107451560883, 9,\n       1.1347387637961643, 4, 1, 1, 4, 1, 0.14845289521747937,\n       -0.21665952703259014, -0.03542944697277691, 39], dtype=object)"
     },
     "metadata": {},
     "execution_count": 14
    }
   ],
   "source": [
    "previsores[0]"
   ]
  },
  {
   "cell_type": "code",
   "execution_count": 15,
   "metadata": {},
   "outputs": [
    {
     "output_type": "execute_result",
     "data": {
      "text/plain": "'\\nlabelencoder_classe = LabelEncoder()\\nclasse = labelencoder_classe.fit_transform(classe)\\n'"
     },
     "metadata": {},
     "execution_count": 15
    }
   ],
   "source": [
    "'''\n",
    "labelencoder_classe = LabelEncoder()\n",
    "classe = labelencoder_classe.fit_transform(classe)\n",
    "'''"
   ]
  },
  {
   "cell_type": "code",
   "execution_count": 16,
   "metadata": {},
   "outputs": [
    {
     "output_type": "execute_result",
     "data": {
      "text/plain": "'\\nfrom sklearn.preprocessing import StandardScaler\\nscaler = StandardScaler()\\nprevisores = scaler.fit_transform(previsores)\\n'"
     },
     "metadata": {},
     "execution_count": 16
    }
   ],
   "source": [
    "# Normalização\n",
    "'''\n",
    "from sklearn.preprocessing import StandardScaler\n",
    "scaler = StandardScaler()\n",
    "previsores = scaler.fit_transform(previsores)\n",
    "'''"
   ]
  },
  {
   "cell_type": "code",
   "execution_count": 17,
   "metadata": {},
   "outputs": [],
   "source": [
    "from sklearn.model_selection import train_test_split\n",
    "\n",
    "previsores_treinamento, previsores_teste, classe_treinamento, classe_teste = train_test_split(previsores, classe, test_size=0.15, random_state=0)"
   ]
  },
  {
   "cell_type": "code",
   "execution_count": 26,
   "metadata": {},
   "outputs": [],
   "source": [
    "# Algoritmo kNN\n",
    "\n",
    "from sklearn.neighbors import KNeighborsClassifier\n",
    "\n",
    "classificador = KNeighborsClassifier(n_neighbors=5, p=2, metric='minkowski')"
   ]
  },
  {
   "cell_type": "code",
   "execution_count": 27,
   "metadata": {},
   "outputs": [
    {
     "output_type": "execute_result",
     "data": {
      "text/plain": "KNeighborsClassifier(algorithm='auto', leaf_size=30, metric='minkowski',\n                     metric_params=None, n_jobs=None, n_neighbors=5, p=2,\n                     weights='uniform')"
     },
     "metadata": {},
     "execution_count": 27
    }
   ],
   "source": [
    "# Aprendizado / treinamento\n",
    "\n",
    "classificador.fit(previsores_treinamento, classe_treinamento)"
   ]
  },
  {
   "cell_type": "code",
   "execution_count": 28,
   "metadata": {},
   "outputs": [],
   "source": [
    "# previsao / teste\n",
    "\n",
    "previsoes = classificador.predict(previsores_teste)"
   ]
  },
  {
   "cell_type": "code",
   "execution_count": 29,
   "metadata": {},
   "outputs": [
    {
     "output_type": "execute_result",
     "data": {
      "text/plain": "array([' <=50K', ' <=50K', ' <=50K', ..., ' <=50K', ' <=50K', ' >50K'],\n      dtype=object)"
     },
     "metadata": {},
     "execution_count": 29
    }
   ],
   "source": [
    "previsoes"
   ]
  },
  {
   "cell_type": "code",
   "execution_count": 30,
   "metadata": {},
   "outputs": [
    {
     "output_type": "execute_result",
     "data": {
      "text/plain": "(array([' <=50K', ' >50K'], dtype=object),)"
     },
     "metadata": {},
     "execution_count": 30
    }
   ],
   "source": [
    "# classes\n",
    "\n",
    "classificador.classes_,"
   ]
  },
  {
   "cell_type": "code",
   "execution_count": 31,
   "metadata": {},
   "outputs": [],
   "source": [
    "# acuracia e matrix de confusao\n",
    "\n",
    "from sklearn.metrics import accuracy_score, confusion_matrix\n",
    "\n",
    "acuracia = accuracy_score(classe_teste, previsoes)\n",
    "matriz_confusao = confusion_matrix(classe_teste, previsoes)"
   ]
  },
  {
   "cell_type": "code",
   "execution_count": 32,
   "metadata": {},
   "outputs": [
    {
     "output_type": "execute_result",
     "data": {
      "text/plain": "0.8235414534288639"
     },
     "metadata": {},
     "execution_count": 32
    }
   ],
   "source": [
    "acuracia"
   ]
  },
  {
   "cell_type": "code",
   "execution_count": 33,
   "metadata": {},
   "outputs": [
    {
     "output_type": "execute_result",
     "data": {
      "text/plain": "array([[3344,  349],\n       [ 513,  679]])"
     },
     "metadata": {},
     "execution_count": 33
    }
   ],
   "source": [
    "matriz_confusao"
   ]
  }
 ],
 "metadata": {
  "language_info": {
   "name": "python",
   "codemirror_mode": {
    "name": "ipython",
    "version": 3
   },
   "version": "3.8.2-final"
  },
  "orig_nbformat": 2,
  "file_extension": ".py",
  "mimetype": "text/x-python",
  "name": "python",
  "npconvert_exporter": "python",
  "pygments_lexer": "ipython3",
  "version": 3,
  "kernelspec": {
   "name": "python38264bitenvcursodspythonconda4862b216bc08417fb260ccbbd2b7a1f6",
   "display_name": "Python 3.8.2 64-bit ('env_curso_ds_python': conda)"
  }
 },
 "nbformat": 4,
 "nbformat_minor": 2
}