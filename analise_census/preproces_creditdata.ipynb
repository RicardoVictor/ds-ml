{
 "nbformat": 4,
 "nbformat_minor": 2,
 "metadata": {
  "language_info": {
   "name": "python",
   "codemirror_mode": {
    "name": "ipython",
    "version": 3
   },
   "version": "3.7.5-final"
  },
  "orig_nbformat": 2,
  "file_extension": ".py",
  "mimetype": "text/x-python",
  "name": "python",
  "npconvert_exporter": "python",
  "pygments_lexer": "ipython3",
  "version": 3,
  "kernelspec": {
   "name": "python38264bitenvcursodspythonconda4862b216bc08417fb260ccbbd2b7a1f6",
   "display_name": "Python 3.8.2 64-bit ('env_curso_ds_python': conda)"
  }
 },
 "cells": [
  {
   "cell_type": "markdown",
   "metadata": {},
   "source": [
    "# Pré-processamento de dados\n",
    "\n",
    "***\n",
    "\n",
    "Base creditdata"
   ]
  },
  {
   "cell_type": "markdown",
   "metadata": {},
   "source": [
    "## Tratamento de valores inconsistentes em datasets\n",
    "\n",
    "#### Possíveis soluções:\n",
    "\n",
    "1. Corrigir manualmente os valores um a um.\n",
    "\n",
    "2. Apagar coluna onde houver valores inconsistentes.\n",
    "\n",
    "3. Apagar somente os registros com valores inconsistentes.\n",
    "\n",
    "4. Substituir valores inconsistentes pela média dos valores consistentes."
   ]
  },
  {
   "cell_type": "code",
   "execution_count": 1,
   "metadata": {},
   "outputs": [],
   "source": [
    "import pandas as pd"
   ]
  },
  {
   "cell_type": "code",
   "execution_count": 2,
   "metadata": {},
   "outputs": [],
   "source": [
    "base = pd.read_csv('creditdata.csv')"
   ]
  },
  {
   "cell_type": "code",
   "execution_count": 3,
   "metadata": {},
   "outputs": [
    {
     "output_type": "execute_result",
     "data": {
      "text/plain": "          clientid        income          age          loan      default\ncount  2000.000000   2000.000000  1997.000000   2000.000000  2000.000000\nmean   1000.500000  45331.600018    40.807559   4444.369695     0.141500\nstd     577.494589  14326.327119    13.624469   3045.410024     0.348624\nmin       1.000000  20014.489470   -52.423280      1.377630     0.000000\n25%     500.750000  32796.459717    28.990415   1939.708847     0.000000\n50%    1000.500000  45789.117313    41.317159   3974.719419     0.000000\n75%    1500.250000  57791.281668    52.587040   6432.410625     0.000000\nmax    2000.000000  69995.685578    63.971796  13766.051239     1.000000",
      "text/html": "<div>\n<style scoped>\n    .dataframe tbody tr th:only-of-type {\n        vertical-align: middle;\n    }\n\n    .dataframe tbody tr th {\n        vertical-align: top;\n    }\n\n    .dataframe thead th {\n        text-align: right;\n    }\n</style>\n<table border=\"1\" class=\"dataframe\">\n  <thead>\n    <tr style=\"text-align: right;\">\n      <th></th>\n      <th>clientid</th>\n      <th>income</th>\n      <th>age</th>\n      <th>loan</th>\n      <th>default</th>\n    </tr>\n  </thead>\n  <tbody>\n    <tr>\n      <th>count</th>\n      <td>2000.000000</td>\n      <td>2000.000000</td>\n      <td>1997.000000</td>\n      <td>2000.000000</td>\n      <td>2000.000000</td>\n    </tr>\n    <tr>\n      <th>mean</th>\n      <td>1000.500000</td>\n      <td>45331.600018</td>\n      <td>40.807559</td>\n      <td>4444.369695</td>\n      <td>0.141500</td>\n    </tr>\n    <tr>\n      <th>std</th>\n      <td>577.494589</td>\n      <td>14326.327119</td>\n      <td>13.624469</td>\n      <td>3045.410024</td>\n      <td>0.348624</td>\n    </tr>\n    <tr>\n      <th>min</th>\n      <td>1.000000</td>\n      <td>20014.489470</td>\n      <td>-52.423280</td>\n      <td>1.377630</td>\n      <td>0.000000</td>\n    </tr>\n    <tr>\n      <th>25%</th>\n      <td>500.750000</td>\n      <td>32796.459717</td>\n      <td>28.990415</td>\n      <td>1939.708847</td>\n      <td>0.000000</td>\n    </tr>\n    <tr>\n      <th>50%</th>\n      <td>1000.500000</td>\n      <td>45789.117313</td>\n      <td>41.317159</td>\n      <td>3974.719419</td>\n      <td>0.000000</td>\n    </tr>\n    <tr>\n      <th>75%</th>\n      <td>1500.250000</td>\n      <td>57791.281668</td>\n      <td>52.587040</td>\n      <td>6432.410625</td>\n      <td>0.000000</td>\n    </tr>\n    <tr>\n      <th>max</th>\n      <td>2000.000000</td>\n      <td>69995.685578</td>\n      <td>63.971796</td>\n      <td>13766.051239</td>\n      <td>1.000000</td>\n    </tr>\n  </tbody>\n</table>\n</div>"
     },
     "metadata": {},
     "execution_count": 3
    }
   ],
   "source": [
    "base.describe()"
   ]
  },
  {
   "cell_type": "code",
   "execution_count": 4,
   "metadata": {},
   "outputs": [
    {
     "output_type": "execute_result",
     "data": {
      "text/plain": "      clientid        income        age         loan  default\n0            1  66155.925095  59.017015  8106.532131        0\n1            2  34415.153966  48.117153  6564.745018        0\n2            3  57317.170063  63.108049  8020.953296        0\n3            4  42709.534201  45.751972  6103.642260        0\n4            5  66952.688845  18.584336  8770.099235        1\n...        ...           ...        ...          ...      ...\n1995      1996  59221.044874  48.518179  1926.729397        0\n1996      1997  69516.127573  23.162104  3503.176156        0\n1997      1998  44311.449262  28.017167  5522.786693        1\n1998      1999  43756.056605  63.971796  1622.722598        0\n1999      2000  69436.579552  56.152617  7378.833599        0\n\n[2000 rows x 5 columns]",
      "text/html": "<div>\n<style scoped>\n    .dataframe tbody tr th:only-of-type {\n        vertical-align: middle;\n    }\n\n    .dataframe tbody tr th {\n        vertical-align: top;\n    }\n\n    .dataframe thead th {\n        text-align: right;\n    }\n</style>\n<table border=\"1\" class=\"dataframe\">\n  <thead>\n    <tr style=\"text-align: right;\">\n      <th></th>\n      <th>clientid</th>\n      <th>income</th>\n      <th>age</th>\n      <th>loan</th>\n      <th>default</th>\n    </tr>\n  </thead>\n  <tbody>\n    <tr>\n      <th>0</th>\n      <td>1</td>\n      <td>66155.925095</td>\n      <td>59.017015</td>\n      <td>8106.532131</td>\n      <td>0</td>\n    </tr>\n    <tr>\n      <th>1</th>\n      <td>2</td>\n      <td>34415.153966</td>\n      <td>48.117153</td>\n      <td>6564.745018</td>\n      <td>0</td>\n    </tr>\n    <tr>\n      <th>2</th>\n      <td>3</td>\n      <td>57317.170063</td>\n      <td>63.108049</td>\n      <td>8020.953296</td>\n      <td>0</td>\n    </tr>\n    <tr>\n      <th>3</th>\n      <td>4</td>\n      <td>42709.534201</td>\n      <td>45.751972</td>\n      <td>6103.642260</td>\n      <td>0</td>\n    </tr>\n    <tr>\n      <th>4</th>\n      <td>5</td>\n      <td>66952.688845</td>\n      <td>18.584336</td>\n      <td>8770.099235</td>\n      <td>1</td>\n    </tr>\n    <tr>\n      <th>...</th>\n      <td>...</td>\n      <td>...</td>\n      <td>...</td>\n      <td>...</td>\n      <td>...</td>\n    </tr>\n    <tr>\n      <th>1995</th>\n      <td>1996</td>\n      <td>59221.044874</td>\n      <td>48.518179</td>\n      <td>1926.729397</td>\n      <td>0</td>\n    </tr>\n    <tr>\n      <th>1996</th>\n      <td>1997</td>\n      <td>69516.127573</td>\n      <td>23.162104</td>\n      <td>3503.176156</td>\n      <td>0</td>\n    </tr>\n    <tr>\n      <th>1997</th>\n      <td>1998</td>\n      <td>44311.449262</td>\n      <td>28.017167</td>\n      <td>5522.786693</td>\n      <td>1</td>\n    </tr>\n    <tr>\n      <th>1998</th>\n      <td>1999</td>\n      <td>43756.056605</td>\n      <td>63.971796</td>\n      <td>1622.722598</td>\n      <td>0</td>\n    </tr>\n    <tr>\n      <th>1999</th>\n      <td>2000</td>\n      <td>69436.579552</td>\n      <td>56.152617</td>\n      <td>7378.833599</td>\n      <td>0</td>\n    </tr>\n  </tbody>\n</table>\n<p>2000 rows × 5 columns</p>\n</div>"
     },
     "metadata": {},
     "execution_count": 4
    }
   ],
   "source": [
    "base"
   ]
  },
  {
   "cell_type": "code",
   "execution_count": 5,
   "metadata": {},
   "outputs": [
    {
     "output_type": "stream",
     "name": "stdout",
     "text": "<class 'pandas.core.frame.DataFrame'>\nRangeIndex: 2000 entries, 0 to 1999\nData columns (total 5 columns):\n #   Column    Non-Null Count  Dtype  \n---  ------    --------------  -----  \n 0   clientid  2000 non-null   int64  \n 1   income    2000 non-null   float64\n 2   age       1997 non-null   float64\n 3   loan      2000 non-null   float64\n 4   default   2000 non-null   int64  \ndtypes: float64(3), int64(2)\nmemory usage: 78.2 KB\n"
    }
   ],
   "source": [
    "# é possivel ver valores nulos\n",
    "base.info()"
   ]
  },
  {
   "cell_type": "code",
   "execution_count": 6,
   "metadata": {},
   "outputs": [
    {
     "output_type": "execute_result",
     "data": {
      "text/plain": "      clientid        income        age         loan  default\n0            1  66155.925095  59.017015  8106.532131        0\n1            2  34415.153966  48.117153  6564.745018        0\n2            3  57317.170063  63.108049  8020.953296        0\n3            4  42709.534201  45.751972  6103.642260        0\n4            5  66952.688845  18.584336  8770.099235        1\n...        ...           ...        ...          ...      ...\n1995      1996  59221.044874  48.518179  1926.729397        0\n1996      1997  69516.127573  23.162104  3503.176156        0\n1997      1998  44311.449262  28.017167  5522.786693        1\n1998      1999  43756.056605  63.971796  1622.722598        0\n1999      2000  69436.579552  56.152617  7378.833599        0\n\n[1994 rows x 5 columns]",
      "text/html": "<div>\n<style scoped>\n    .dataframe tbody tr th:only-of-type {\n        vertical-align: middle;\n    }\n\n    .dataframe tbody tr th {\n        vertical-align: top;\n    }\n\n    .dataframe thead th {\n        text-align: right;\n    }\n</style>\n<table border=\"1\" class=\"dataframe\">\n  <thead>\n    <tr style=\"text-align: right;\">\n      <th></th>\n      <th>clientid</th>\n      <th>income</th>\n      <th>age</th>\n      <th>loan</th>\n      <th>default</th>\n    </tr>\n  </thead>\n  <tbody>\n    <tr>\n      <th>0</th>\n      <td>1</td>\n      <td>66155.925095</td>\n      <td>59.017015</td>\n      <td>8106.532131</td>\n      <td>0</td>\n    </tr>\n    <tr>\n      <th>1</th>\n      <td>2</td>\n      <td>34415.153966</td>\n      <td>48.117153</td>\n      <td>6564.745018</td>\n      <td>0</td>\n    </tr>\n    <tr>\n      <th>2</th>\n      <td>3</td>\n      <td>57317.170063</td>\n      <td>63.108049</td>\n      <td>8020.953296</td>\n      <td>0</td>\n    </tr>\n    <tr>\n      <th>3</th>\n      <td>4</td>\n      <td>42709.534201</td>\n      <td>45.751972</td>\n      <td>6103.642260</td>\n      <td>0</td>\n    </tr>\n    <tr>\n      <th>4</th>\n      <td>5</td>\n      <td>66952.688845</td>\n      <td>18.584336</td>\n      <td>8770.099235</td>\n      <td>1</td>\n    </tr>\n    <tr>\n      <th>...</th>\n      <td>...</td>\n      <td>...</td>\n      <td>...</td>\n      <td>...</td>\n      <td>...</td>\n    </tr>\n    <tr>\n      <th>1995</th>\n      <td>1996</td>\n      <td>59221.044874</td>\n      <td>48.518179</td>\n      <td>1926.729397</td>\n      <td>0</td>\n    </tr>\n    <tr>\n      <th>1996</th>\n      <td>1997</td>\n      <td>69516.127573</td>\n      <td>23.162104</td>\n      <td>3503.176156</td>\n      <td>0</td>\n    </tr>\n    <tr>\n      <th>1997</th>\n      <td>1998</td>\n      <td>44311.449262</td>\n      <td>28.017167</td>\n      <td>5522.786693</td>\n      <td>1</td>\n    </tr>\n    <tr>\n      <th>1998</th>\n      <td>1999</td>\n      <td>43756.056605</td>\n      <td>63.971796</td>\n      <td>1622.722598</td>\n      <td>0</td>\n    </tr>\n    <tr>\n      <th>1999</th>\n      <td>2000</td>\n      <td>69436.579552</td>\n      <td>56.152617</td>\n      <td>7378.833599</td>\n      <td>0</td>\n    </tr>\n  </tbody>\n</table>\n<p>1994 rows × 5 columns</p>\n</div>"
     },
     "metadata": {},
     "execution_count": 6
    }
   ],
   "source": [
    "# filtra por indice ou com base em alguma logica\n",
    "base.loc[base['age'] > 0]"
   ]
  },
  {
   "cell_type": "markdown",
   "metadata": {},
   "source": [
    "Técnica 2:"
   ]
  },
  {
   "cell_type": "code",
   "execution_count": 7,
   "metadata": {},
   "outputs": [],
   "source": [
    "# apaga coluna(modifica o dataset diretamente)\n",
    "#base.drop('age', axis=1, inplace=True)"
   ]
  },
  {
   "cell_type": "markdown",
   "metadata": {},
   "source": [
    "Técnica 3:"
   ]
  },
  {
   "cell_type": "code",
   "execution_count": 8,
   "metadata": {},
   "outputs": [],
   "source": [
    "#base.drop(base[base.age < 0].index, inplace=True)"
   ]
  },
  {
   "cell_type": "code",
   "execution_count": 9,
   "metadata": {},
   "outputs": [
    {
     "output_type": "execute_result",
     "data": {
      "text/plain": "      clientid        income        age         loan  default\n0            1  66155.925095  59.017015  8106.532131        0\n1            2  34415.153966  48.117153  6564.745018        0\n2            3  57317.170063  63.108049  8020.953296        0\n3            4  42709.534201  45.751972  6103.642260        0\n4            5  66952.688845  18.584336  8770.099235        1\n...        ...           ...        ...          ...      ...\n1995      1996  59221.044874  48.518179  1926.729397        0\n1996      1997  69516.127573  23.162104  3503.176156        0\n1997      1998  44311.449262  28.017167  5522.786693        1\n1998      1999  43756.056605  63.971796  1622.722598        0\n1999      2000  69436.579552  56.152617  7378.833599        0\n\n[2000 rows x 5 columns]",
      "text/html": "<div>\n<style scoped>\n    .dataframe tbody tr th:only-of-type {\n        vertical-align: middle;\n    }\n\n    .dataframe tbody tr th {\n        vertical-align: top;\n    }\n\n    .dataframe thead th {\n        text-align: right;\n    }\n</style>\n<table border=\"1\" class=\"dataframe\">\n  <thead>\n    <tr style=\"text-align: right;\">\n      <th></th>\n      <th>clientid</th>\n      <th>income</th>\n      <th>age</th>\n      <th>loan</th>\n      <th>default</th>\n    </tr>\n  </thead>\n  <tbody>\n    <tr>\n      <th>0</th>\n      <td>1</td>\n      <td>66155.925095</td>\n      <td>59.017015</td>\n      <td>8106.532131</td>\n      <td>0</td>\n    </tr>\n    <tr>\n      <th>1</th>\n      <td>2</td>\n      <td>34415.153966</td>\n      <td>48.117153</td>\n      <td>6564.745018</td>\n      <td>0</td>\n    </tr>\n    <tr>\n      <th>2</th>\n      <td>3</td>\n      <td>57317.170063</td>\n      <td>63.108049</td>\n      <td>8020.953296</td>\n      <td>0</td>\n    </tr>\n    <tr>\n      <th>3</th>\n      <td>4</td>\n      <td>42709.534201</td>\n      <td>45.751972</td>\n      <td>6103.642260</td>\n      <td>0</td>\n    </tr>\n    <tr>\n      <th>4</th>\n      <td>5</td>\n      <td>66952.688845</td>\n      <td>18.584336</td>\n      <td>8770.099235</td>\n      <td>1</td>\n    </tr>\n    <tr>\n      <th>...</th>\n      <td>...</td>\n      <td>...</td>\n      <td>...</td>\n      <td>...</td>\n      <td>...</td>\n    </tr>\n    <tr>\n      <th>1995</th>\n      <td>1996</td>\n      <td>59221.044874</td>\n      <td>48.518179</td>\n      <td>1926.729397</td>\n      <td>0</td>\n    </tr>\n    <tr>\n      <th>1996</th>\n      <td>1997</td>\n      <td>69516.127573</td>\n      <td>23.162104</td>\n      <td>3503.176156</td>\n      <td>0</td>\n    </tr>\n    <tr>\n      <th>1997</th>\n      <td>1998</td>\n      <td>44311.449262</td>\n      <td>28.017167</td>\n      <td>5522.786693</td>\n      <td>1</td>\n    </tr>\n    <tr>\n      <th>1998</th>\n      <td>1999</td>\n      <td>43756.056605</td>\n      <td>63.971796</td>\n      <td>1622.722598</td>\n      <td>0</td>\n    </tr>\n    <tr>\n      <th>1999</th>\n      <td>2000</td>\n      <td>69436.579552</td>\n      <td>56.152617</td>\n      <td>7378.833599</td>\n      <td>0</td>\n    </tr>\n  </tbody>\n</table>\n<p>2000 rows × 5 columns</p>\n</div>"
     },
     "metadata": {},
     "execution_count": 9
    }
   ],
   "source": [
    "base"
   ]
  },
  {
   "cell_type": "markdown",
   "metadata": {},
   "source": [
    "Técnica 4:"
   ]
  },
  {
   "cell_type": "code",
   "execution_count": 10,
   "metadata": {},
   "outputs": [
    {
     "output_type": "execute_result",
     "data": {
      "text/plain": "40.92770044906149"
     },
     "metadata": {},
     "execution_count": 10
    }
   ],
   "source": [
    "# substituir os registros inconsistentes pela media\n",
    "\n",
    "# media para cada coluna possivel do database\n",
    "base.mean()\n",
    "# media de todas as idades\n",
    "base['age'].mean()\n",
    "# media das idades com valor maior que zero\n",
    "base['age'][base.age > 0].mean()"
   ]
  },
  {
   "cell_type": "code",
   "execution_count": 11,
   "metadata": {},
   "outputs": [
    {
     "output_type": "execute_result",
     "data": {
      "text/plain": "    clientid        income        age         loan  default\n15        16  50501.726689 -28.218361  3977.287432        0\n21        22  32197.620701 -52.423280  4244.057136        0\n26        27  63287.038908 -36.496976  9595.286289        0",
      "text/html": "<div>\n<style scoped>\n    .dataframe tbody tr th:only-of-type {\n        vertical-align: middle;\n    }\n\n    .dataframe tbody tr th {\n        vertical-align: top;\n    }\n\n    .dataframe thead th {\n        text-align: right;\n    }\n</style>\n<table border=\"1\" class=\"dataframe\">\n  <thead>\n    <tr style=\"text-align: right;\">\n      <th></th>\n      <th>clientid</th>\n      <th>income</th>\n      <th>age</th>\n      <th>loan</th>\n      <th>default</th>\n    </tr>\n  </thead>\n  <tbody>\n    <tr>\n      <th>15</th>\n      <td>16</td>\n      <td>50501.726689</td>\n      <td>-28.218361</td>\n      <td>3977.287432</td>\n      <td>0</td>\n    </tr>\n    <tr>\n      <th>21</th>\n      <td>22</td>\n      <td>32197.620701</td>\n      <td>-52.423280</td>\n      <td>4244.057136</td>\n      <td>0</td>\n    </tr>\n    <tr>\n      <th>26</th>\n      <td>27</td>\n      <td>63287.038908</td>\n      <td>-36.496976</td>\n      <td>9595.286289</td>\n      <td>0</td>\n    </tr>\n  </tbody>\n</table>\n</div>"
     },
     "metadata": {},
     "execution_count": 11
    }
   ],
   "source": [
    "# retorna registros da coluna 'age' q forem maiores q 0 \n",
    "base.loc[base['age']<=0]"
   ]
  },
  {
   "cell_type": "code",
   "execution_count": 12,
   "metadata": {},
   "outputs": [
    {
     "output_type": "execute_result",
     "data": {
      "text/plain": "15    16\n21    22\n26    27\nName: clientid, dtype: int64"
     },
     "metadata": {},
     "execution_count": 12
    }
   ],
   "source": [
    "\n",
    "# retorna somente a coluna 'clientid' dos registros da coluna 'age' q tem valor maior q 0 \n",
    "base.loc[base['age']<=0]['clientid']"
   ]
  },
  {
   "cell_type": "code",
   "execution_count": 13,
   "metadata": {},
   "outputs": [],
   "source": [
    "# substituindo idades c valor menor q zero pela media das idades maiores q zero\n",
    "base.loc[base.age < 0, 'age'] = base['age'][base.age > 0].mean()"
   ]
  },
  {
   "cell_type": "code",
   "execution_count": 14,
   "metadata": {},
   "outputs": [
    {
     "output_type": "execute_result",
     "data": {
      "text/plain": "    clientid        income      age         loan  default\n15        16  50501.726689  40.9277  3977.287432        0\n21        22  32197.620701  40.9277  4244.057136        0\n26        27  63287.038908  40.9277  9595.286289        0",
      "text/html": "<div>\n<style scoped>\n    .dataframe tbody tr th:only-of-type {\n        vertical-align: middle;\n    }\n\n    .dataframe tbody tr th {\n        vertical-align: top;\n    }\n\n    .dataframe thead th {\n        text-align: right;\n    }\n</style>\n<table border=\"1\" class=\"dataframe\">\n  <thead>\n    <tr style=\"text-align: right;\">\n      <th></th>\n      <th>clientid</th>\n      <th>income</th>\n      <th>age</th>\n      <th>loan</th>\n      <th>default</th>\n    </tr>\n  </thead>\n  <tbody>\n    <tr>\n      <th>15</th>\n      <td>16</td>\n      <td>50501.726689</td>\n      <td>40.9277</td>\n      <td>3977.287432</td>\n      <td>0</td>\n    </tr>\n    <tr>\n      <th>21</th>\n      <td>22</td>\n      <td>32197.620701</td>\n      <td>40.9277</td>\n      <td>4244.057136</td>\n      <td>0</td>\n    </tr>\n    <tr>\n      <th>26</th>\n      <td>27</td>\n      <td>63287.038908</td>\n      <td>40.9277</td>\n      <td>9595.286289</td>\n      <td>0</td>\n    </tr>\n  </tbody>\n</table>\n</div>"
     },
     "metadata": {},
     "execution_count": 14
    }
   ],
   "source": [
    "# retorna os registros com base no valor da coluna\n",
    "base.query('clientid==[16, 22, 27]')"
   ]
  },
  {
   "cell_type": "markdown",
   "metadata": {},
   "source": [
    "## Tratamento de valores faltantes (NaN)"
   ]
  },
  {
   "cell_type": "markdown",
   "metadata": {},
   "source": [
    "Visualizando valores faltantes na coluna 'age':"
   ]
  },
  {
   "cell_type": "code",
   "execution_count": 15,
   "metadata": {},
   "outputs": [
    {
     "output_type": "execute_result",
     "data": {
      "text/plain": "    clientid        income  age         loan  default\n28        29  59417.805406  NaN  2082.625938        0\n30        31  48528.852796  NaN  6155.784670        0\n31        32  23526.302555  NaN  2862.010139        0",
      "text/html": "<div>\n<style scoped>\n    .dataframe tbody tr th:only-of-type {\n        vertical-align: middle;\n    }\n\n    .dataframe tbody tr th {\n        vertical-align: top;\n    }\n\n    .dataframe thead th {\n        text-align: right;\n    }\n</style>\n<table border=\"1\" class=\"dataframe\">\n  <thead>\n    <tr style=\"text-align: right;\">\n      <th></th>\n      <th>clientid</th>\n      <th>income</th>\n      <th>age</th>\n      <th>loan</th>\n      <th>default</th>\n    </tr>\n  </thead>\n  <tbody>\n    <tr>\n      <th>28</th>\n      <td>29</td>\n      <td>59417.805406</td>\n      <td>NaN</td>\n      <td>2082.625938</td>\n      <td>0</td>\n    </tr>\n    <tr>\n      <th>30</th>\n      <td>31</td>\n      <td>48528.852796</td>\n      <td>NaN</td>\n      <td>6155.784670</td>\n      <td>0</td>\n    </tr>\n    <tr>\n      <th>31</th>\n      <td>32</td>\n      <td>23526.302555</td>\n      <td>NaN</td>\n      <td>2862.010139</td>\n      <td>0</td>\n    </tr>\n  </tbody>\n</table>\n</div>"
     },
     "metadata": {},
     "execution_count": 15
    }
   ],
   "source": [
    "# retorna true ou false c base em coluna isnull\n",
    "pd.isnull(base['age'])\n",
    "\n",
    "# retorna registros q tem coluna 'age' null\n",
    "base.loc[pd.isnull(base['age'])]"
   ]
  },
  {
   "cell_type": "markdown",
   "metadata": {},
   "source": [
    "## Separação do dataset em previsores e classe"
   ]
  },
  {
   "cell_type": "code",
   "execution_count": 16,
   "metadata": {},
   "outputs": [
    {
     "output_type": "execute_result",
     "data": {
      "text/plain": "array([[59417.80540626,            nan,  2082.62593812],\n       [48528.85279572,            nan,  6155.78467026],\n       [23526.30255511,            nan,  2862.01013875]])"
     },
     "metadata": {},
     "execution_count": 16
    }
   ],
   "source": [
    "# .values: retorna um objeto do tipo numpy.array\n",
    "previsores = base.iloc[:, 1:4].values\n",
    "\n",
    "# retorno em cima dos registros com valores nan para coluna age\n",
    "previsores[[28, 30, 31]]"
   ]
  },
  {
   "cell_type": "code",
   "execution_count": 17,
   "metadata": {},
   "outputs": [
    {
     "output_type": "execute_result",
     "data": {
      "text/plain": "array([0, 0, 0, ..., 1, 0, 0])"
     },
     "metadata": {},
     "execution_count": 17
    }
   ],
   "source": [
    "# .values: retorna um objeto do tipo numpy.array\n",
    "classe = base.iloc[:, 4].values\n",
    "classe"
   ]
  },
  {
   "cell_type": "markdown",
   "metadata": {},
   "source": [
    "#### Atribuindo média aos valores faltantes"
   ]
  },
  {
   "cell_type": "code",
   "execution_count": 18,
   "metadata": {},
   "outputs": [],
   "source": [
    "from sklearn.impute import SimpleImputer\n",
    "import numpy as np\n",
    "\n",
    "imputer = SimpleImputer(missing_values=np.nan, strategy='mean')"
   ]
  },
  {
   "cell_type": "markdown",
   "metadata": {},
   "source": [
    "> Retorno dos registros em cima dos antigos registros com valores NaN para coluna 'age'.\n",
    ">\n",
    "> Observamos que agora os valores estam preenchidos com a média os valores existentes:"
   ]
  },
  {
   "cell_type": "code",
   "execution_count": 19,
   "metadata": {},
   "outputs": [
    {
     "output_type": "execute_result",
     "data": {
      "text/plain": "array([[5.94178054e+04, 4.09277004e+01, 2.08262594e+03],\n       [4.85288528e+04, 4.09277004e+01, 6.15578467e+03],\n       [2.35263026e+04, 4.09277004e+01, 2.86201014e+03]])"
     },
     "metadata": {},
     "execution_count": 19
    }
   ],
   "source": [
    "#imputer = imputer.fit(previsores[:, 0:3])\n",
    "imputer = imputer.fit(previsores)\n",
    "#previsores[:, 0:3] = imputer.transform(previsores[:, 0:3])\n",
    "previsores = imputer.transform(previsores)\n",
    "previsores[[28, 30, 31]]"
   ]
  },
  {
   "cell_type": "markdown",
   "metadata": {},
   "source": [
    "## Escalonamento de atributos\n",
    "\n",
    "**Padronização:** *x = x - media(x) / desvio padrao(x)*\n",
    "\n",
    "**Normalização:** *x = x - min(x) / max(x) - min(x)*"
   ]
  },
  {
   "cell_type": "code",
   "execution_count": 20,
   "metadata": {},
   "outputs": [
    {
     "output_type": "execute_result",
     "data": {
      "text/plain": "array([[ 1.45393393,  1.36538005,  1.20281942],\n       [-0.76217555,  0.54265932,  0.69642695],\n       [ 0.83682073,  1.67417101,  1.17471147],\n       ...,\n       [-0.07122592, -0.97448606,  0.35420081],\n       [-0.11000289,  1.73936652, -0.92675625],\n       [ 1.682986  ,  1.14917551,  0.96381038]])"
     },
     "metadata": {},
     "execution_count": 20
    }
   ],
   "source": [
    "from sklearn.preprocessing import StandardScaler\n",
    "\n",
    "scaler = StandardScaler()\n",
    "previsores = scaler.fit_transform(previsores)\n",
    "previsores"
   ]
  }
 ]
}