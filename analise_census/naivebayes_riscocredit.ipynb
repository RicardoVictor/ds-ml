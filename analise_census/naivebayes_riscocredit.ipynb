{
 "nbformat": 4,
 "nbformat_minor": 2,
 "metadata": {
  "language_info": {
   "name": "python",
   "codemirror_mode": {
    "name": "ipython",
    "version": 3
   },
   "version": "3.8.2-final"
  },
  "orig_nbformat": 2,
  "file_extension": ".py",
  "mimetype": "text/x-python",
  "name": "python",
  "npconvert_exporter": "python",
  "pygments_lexer": "ipython3",
  "version": 3,
  "kernelspec": {
   "name": "python38264bitenvcursodspythonconda4862b216bc08417fb260ccbbd2b7a1f6",
   "display_name": "Python 3.8.2 64-bit ('env_curso_ds_python': conda)"
  }
 },
 "cells": [
  {
   "cell_type": "code",
   "execution_count": 1,
   "metadata": {},
   "outputs": [],
   "source": [
    "import pandas as pd"
   ]
  },
  {
   "cell_type": "code",
   "execution_count": 2,
   "metadata": {},
   "outputs": [],
   "source": [
    "base = pd.read_csv('riscocredit.csv')"
   ]
  },
  {
   "cell_type": "code",
   "execution_count": 3,
   "metadata": {},
   "outputs": [
    {
     "output_type": "execute_result",
     "data": {
      "text/plain": "        historia divida garantias     renda     risco\n0           ruim   alta   nenhuma      0_15      alto\n1   desconhecida   alta   nenhuma     15_35      alto\n2   desconhecida  baixa   nenhuma     15_35  moderado\n3   desconhecida  baixa   nenhuma  acima_35      alto\n4   desconhecida  baixa   nenhuma  acima_35     baixo\n5   desconhecida  baixa  adequada  acima_35     baixo\n6           ruim  baixa   nenhuma      0_15      alto\n7           ruim  baixa  adequada  acima_35  moderado\n8            boa  baixa   nenhuma  acima_35     baixo\n9            boa   alta  adequada  acima_35     baixo\n10           boa   alta   nenhuma      0_15      alto\n11           boa   alta   nenhuma     15_35  moderado\n12          boa    alta   nenhuma  acima_35     baixo\n13          ruim   alta   nenhuma     15_35      alto",
      "text/html": "<div>\n<style scoped>\n    .dataframe tbody tr th:only-of-type {\n        vertical-align: middle;\n    }\n\n    .dataframe tbody tr th {\n        vertical-align: top;\n    }\n\n    .dataframe thead th {\n        text-align: right;\n    }\n</style>\n<table border=\"1\" class=\"dataframe\">\n  <thead>\n    <tr style=\"text-align: right;\">\n      <th></th>\n      <th>historia</th>\n      <th>divida</th>\n      <th>garantias</th>\n      <th>renda</th>\n      <th>risco</th>\n    </tr>\n  </thead>\n  <tbody>\n    <tr>\n      <th>0</th>\n      <td>ruim</td>\n      <td>alta</td>\n      <td>nenhuma</td>\n      <td>0_15</td>\n      <td>alto</td>\n    </tr>\n    <tr>\n      <th>1</th>\n      <td>desconhecida</td>\n      <td>alta</td>\n      <td>nenhuma</td>\n      <td>15_35</td>\n      <td>alto</td>\n    </tr>\n    <tr>\n      <th>2</th>\n      <td>desconhecida</td>\n      <td>baixa</td>\n      <td>nenhuma</td>\n      <td>15_35</td>\n      <td>moderado</td>\n    </tr>\n    <tr>\n      <th>3</th>\n      <td>desconhecida</td>\n      <td>baixa</td>\n      <td>nenhuma</td>\n      <td>acima_35</td>\n      <td>alto</td>\n    </tr>\n    <tr>\n      <th>4</th>\n      <td>desconhecida</td>\n      <td>baixa</td>\n      <td>nenhuma</td>\n      <td>acima_35</td>\n      <td>baixo</td>\n    </tr>\n    <tr>\n      <th>5</th>\n      <td>desconhecida</td>\n      <td>baixa</td>\n      <td>adequada</td>\n      <td>acima_35</td>\n      <td>baixo</td>\n    </tr>\n    <tr>\n      <th>6</th>\n      <td>ruim</td>\n      <td>baixa</td>\n      <td>nenhuma</td>\n      <td>0_15</td>\n      <td>alto</td>\n    </tr>\n    <tr>\n      <th>7</th>\n      <td>ruim</td>\n      <td>baixa</td>\n      <td>adequada</td>\n      <td>acima_35</td>\n      <td>moderado</td>\n    </tr>\n    <tr>\n      <th>8</th>\n      <td>boa</td>\n      <td>baixa</td>\n      <td>nenhuma</td>\n      <td>acima_35</td>\n      <td>baixo</td>\n    </tr>\n    <tr>\n      <th>9</th>\n      <td>boa</td>\n      <td>alta</td>\n      <td>adequada</td>\n      <td>acima_35</td>\n      <td>baixo</td>\n    </tr>\n    <tr>\n      <th>10</th>\n      <td>boa</td>\n      <td>alta</td>\n      <td>nenhuma</td>\n      <td>0_15</td>\n      <td>alto</td>\n    </tr>\n    <tr>\n      <th>11</th>\n      <td>boa</td>\n      <td>alta</td>\n      <td>nenhuma</td>\n      <td>15_35</td>\n      <td>moderado</td>\n    </tr>\n    <tr>\n      <th>12</th>\n      <td>boa</td>\n      <td>alta</td>\n      <td>nenhuma</td>\n      <td>acima_35</td>\n      <td>baixo</td>\n    </tr>\n    <tr>\n      <th>13</th>\n      <td>ruim</td>\n      <td>alta</td>\n      <td>nenhuma</td>\n      <td>15_35</td>\n      <td>alto</td>\n    </tr>\n  </tbody>\n</table>\n</div>"
     },
     "metadata": {},
     "execution_count": 3
    }
   ],
   "source": [
    "base"
   ]
  },
  {
   "cell_type": "code",
   "execution_count": 4,
   "metadata": {},
   "outputs": [],
   "source": [
    "previsores = base.iloc[:, 0:4].values\n",
    "classe = base.iloc[:, 4].values"
   ]
  },
  {
   "cell_type": "code",
   "execution_count": 5,
   "metadata": {},
   "outputs": [
    {
     "output_type": "execute_result",
     "data": {
      "text/plain": "(array([['ruim', 'alta', 'nenhuma', '0_15'],\n        ['desconhecida', 'alta', 'nenhuma', '15_35'],\n        ['desconhecida', 'baixa', 'nenhuma', '15_35'],\n        ['desconhecida', 'baixa', 'nenhuma', 'acima_35'],\n        ['desconhecida', 'baixa', 'nenhuma', 'acima_35'],\n        ['desconhecida', 'baixa', 'adequada', 'acima_35'],\n        ['ruim', 'baixa', 'nenhuma', '0_15'],\n        ['ruim', 'baixa', 'adequada', 'acima_35'],\n        ['boa', 'baixa', 'nenhuma', 'acima_35'],\n        ['boa', 'alta', 'adequada', 'acima_35'],\n        ['boa', 'alta', 'nenhuma', '0_15'],\n        ['boa', 'alta', 'nenhuma', '15_35'],\n        ['boa ', 'alta', 'nenhuma', 'acima_35'],\n        ['ruim', 'alta', 'nenhuma', '15_35']], dtype=object),\n array(['alto', 'alto', 'moderado', 'alto', 'baixo', 'baixo', 'alto',\n        'moderado', 'baixo', 'baixo', 'alto', 'moderado', 'baixo', 'alto'],\n       dtype=object))"
     },
     "metadata": {},
     "execution_count": 5
    }
   ],
   "source": [
    "previsores, classe"
   ]
  },
  {
   "cell_type": "markdown",
   "metadata": {},
   "source": [
    "### O Sklearn implementa o Naive Bayes de 3 formas:\n",
    "\n",
    "1. Gaussian\n",
    "\n",
    "2. Multinomial\n",
    "\n",
    "3. Bernoulli"
   ]
  },
  {
   "cell_type": "code",
   "execution_count": 6,
   "metadata": {},
   "outputs": [],
   "source": [
    "from sklearn.naive_bayes import GaussianNB"
   ]
  },
  {
   "cell_type": "code",
   "execution_count": 7,
   "metadata": {},
   "outputs": [],
   "source": [
    "classificador = GaussianNB()"
   ]
  },
  {
   "cell_type": "markdown",
   "metadata": {},
   "source": [
    "### Conversão atributos categoricos em numéricos"
   ]
  },
  {
   "cell_type": "code",
   "execution_count": 8,
   "metadata": {},
   "outputs": [],
   "source": [
    "from sklearn.preprocessing import LabelEncoder"
   ]
  },
  {
   "cell_type": "code",
   "execution_count": 9,
   "metadata": {},
   "outputs": [],
   "source": [
    "labelencoder = LabelEncoder()\n",
    "previsores[:, 0] = labelencoder.fit_transform(previsores[:, 0])\n",
    "previsores[:, 1] = labelencoder.fit_transform(previsores[:, 1])\n",
    "previsores[:, 2] = labelencoder.fit_transform(previsores[:, 2])\n",
    "previsores[:, 3] = labelencoder.fit_transform(previsores[:, 3])"
   ]
  },
  {
   "cell_type": "code",
   "execution_count": 10,
   "metadata": {},
   "outputs": [
    {
     "output_type": "execute_result",
     "data": {
      "text/plain": "GaussianNB(priors=None, var_smoothing=1e-09)"
     },
     "metadata": {},
     "execution_count": 10
    }
   ],
   "source": [
    "classificador.fit(previsores, classe)"
   ]
  },
  {
   "cell_type": "code",
   "execution_count": 11,
   "metadata": {},
   "outputs": [],
   "source": [
    "resultado = classificador.predict([\n",
    "[0, # boa\n",
    " 0, # alta\n",
    " 1, # nenhuma\n",
    " 2  # >35\n",
    " ],\n",
    "[3, # ruim\n",
    " 0, # alta\n",
    " 0, # adequada\n",
    " 0  # <15\n",
    "]])"
   ]
  },
  {
   "cell_type": "code",
   "execution_count": 12,
   "metadata": {},
   "outputs": [
    {
     "output_type": "execute_result",
     "data": {
      "text/plain": "array(['baixo', 'moderado'], dtype='<U8')"
     },
     "metadata": {},
     "execution_count": 12
    }
   ],
   "source": [
    "resultado"
   ]
  },
  {
   "cell_type": "code",
   "execution_count": 13,
   "metadata": {},
   "outputs": [
    {
     "output_type": "execute_result",
     "data": {
      "text/plain": "array(['alto', 'baixo', 'moderado'], dtype='<U8')"
     },
     "metadata": {},
     "execution_count": 13
    }
   ],
   "source": [
    "# classes\n",
    "classificador.classes_"
   ]
  },
  {
   "cell_type": "code",
   "execution_count": 14,
   "metadata": {},
   "outputs": [
    {
     "output_type": "execute_result",
     "data": {
      "text/plain": "array([6., 5., 3.])"
     },
     "metadata": {},
     "execution_count": 14
    }
   ],
   "source": [
    "# quantidade de cada classe\n",
    "classificador.class_count_"
   ]
  },
  {
   "cell_type": "code",
   "execution_count": 15,
   "metadata": {},
   "outputs": [
    {
     "output_type": "execute_result",
     "data": {
      "text/plain": "array([0.42857143, 0.35714286, 0.21428571])"
     },
     "metadata": {},
     "execution_count": 15
    }
   ],
   "source": [
    "# probabilidades a priori de cada classe\n",
    "\"\"\" quantidade de cada classe (classificador.class_count_) dividido pela quantidade total de registros \"\"\"\n",
    "classificador.class_prior_"
   ]
  }
 ]
}